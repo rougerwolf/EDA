{
  "nbformat": 4,
  "nbformat_minor": 0,
  "metadata": {
    "colab": {
      "name": "Worksheet 2.3 Ai tools.ipynb",
      "provenance": [],
      "collapsed_sections": [],
      "toc_visible": true,
      "authorship_tag": "ABX9TyMg0ByofrW/MPgsL2O3KJT5",
      "include_colab_link": true
    },
    "kernelspec": {
      "name": "python3",
      "display_name": "Python 3"
    },
    "language_info": {
      "name": "python"
    }
  },
  "cells": [
    {
      "cell_type": "markdown",
      "metadata": {
        "id": "view-in-github",
        "colab_type": "text"
      },
      "source": [
        "<a href=\"https://colab.research.google.com/github/rougerwolf/EDA/blob/main/Chatterbot.ipynb\" target=\"_parent\"><img src=\"https://colab.research.google.com/assets/colab-badge.svg\" alt=\"Open In Colab\"/></a>"
      ]
    },
    {
      "cell_type": "code",
      "execution_count": null,
      "metadata": {
        "colab": {
          "base_uri": "https://localhost:8080/"
        },
        "id": "1wrLgVvCLmrt",
        "outputId": "aa1fb3fa-5106-474e-9225-ac34c5094b86"
      },
      "outputs": [
        {
          "output_type": "stream",
          "name": "stdout",
          "text": [
            "Collecting chatterbot\n",
            "  Downloading ChatterBot-1.0.8-py2.py3-none-any.whl (63 kB)\n",
            "\u001b[K     |████████████████████████████████| 63 kB 2.0 MB/s \n",
            "\u001b[?25hCollecting sqlalchemy<1.4,>=1.3\n",
            "  Downloading SQLAlchemy-1.3.24-cp37-cp37m-manylinux2010_x86_64.whl (1.3 MB)\n",
            "\u001b[K     |████████████████████████████████| 1.3 MB 14.3 MB/s \n",
            "\u001b[?25hRequirement already satisfied: pytz in /usr/local/lib/python3.7/dist-packages (from chatterbot) (2018.9)\n",
            "Requirement already satisfied: python-dateutil<2.9,>=2.8 in /usr/local/lib/python3.7/dist-packages (from chatterbot) (2.8.2)\n",
            "Collecting mathparse<0.2,>=0.1\n",
            "  Downloading mathparse-0.1.2-py3-none-any.whl (7.2 kB)\n",
            "Requirement already satisfied: six>=1.5 in /usr/local/lib/python3.7/dist-packages (from python-dateutil<2.9,>=2.8->chatterbot) (1.15.0)\n",
            "Installing collected packages: sqlalchemy, mathparse, chatterbot\n",
            "  Attempting uninstall: sqlalchemy\n",
            "    Found existing installation: SQLAlchemy 1.4.35\n",
            "    Uninstalling SQLAlchemy-1.4.35:\n",
            "      Successfully uninstalled SQLAlchemy-1.4.35\n",
            "Successfully installed chatterbot-1.0.8 mathparse-0.1.2 sqlalchemy-1.3.24\n"
          ]
        }
      ],
      "source": [
        "pip install chatterbot"
      ]
    },
    {
      "cell_type": "code",
      "source": [
        "# Importing chatterbot \n",
        "from chatterbot import ChatBot\n",
        "# Create object of ChatBot class \n",
        "bot = ChatBot('Dani')"
      ],
      "metadata": {
        "id": "F2cWJnjnLu4_"
      },
      "execution_count": null,
      "outputs": []
    },
    {
      "cell_type": "code",
      "source": [
        "# Create object of ChatBot class with Storage Adapter \n",
        "bot = ChatBot( \n",
        "    'Dani', storage_adapter='chatterbot.storage.SQLStorageAdapter', \n",
        "    database_uri='sqlite:///database.sqlite3' \n",
        ")"
      ],
      "metadata": {
        "id": "-jq8CIPIL8OT"
      },
      "execution_count": null,
      "outputs": []
    },
    {
      "cell_type": "code",
      "source": [
        "# Create object of ChatBot class with Logic Adapter \n",
        "bot = ChatBot( \n",
        "    'Dani', logic_adapters=[ \n",
        "                           'chatterbot.logic.BestMatch', \n",
        "                           'chatterbot.logic.TimeLogicAdapter'], \n",
        ")"
      ],
      "metadata": {
        "id": "l-q4Ufq2MHcC"
      },
      "execution_count": null,
      "outputs": []
    },
    {
      "cell_type": "code",
      "source": [
        ""
      ],
      "metadata": {
        "id": "CcYfsi-13uEY"
      },
      "execution_count": null,
      "outputs": []
    },
    {
      "cell_type": "code",
      "source": [
        "# Getting a response testing.\n",
        "response = bot.get_response('I have a query.') \n",
        "print(\"Bot Response:\", response)"
      ],
      "metadata": {
        "colab": {
          "base_uri": "https://localhost:8080/"
        },
        "id": "Sz4q-L2PMojw",
        "outputId": "4e0a5866-647d-4c68-cc46-dba4bfd5485f"
      },
      "execution_count": null,
      "outputs": [
        {
          "output_type": "stream",
          "name": "stdout",
          "text": [
            "Bot Response: I have a query.\n"
          ]
        }
      ]
    },
    {
      "cell_type": "code",
      "source": [
        "# Import ListTrainer \n",
        "from chatterbot.trainers import ListTrainer \n",
        "trainer = ListTrainer(bot) \n",
        "trainer.train([ \n",
        "               'Hello', \n",
        "               'Hi There! How may I help You !', \n",
        "               'I want to take admission in your Institute', \n",
        "               'Thank You, for choosing our Institute, Which course would you like to take !', \n",
        "               'I want to take Admission in MCA', \n",
        "               'We provide 3 specialization courses on MCA, which would you like to choose', \n",
        "               'Can you tell me what are those specialization courses ?', \n",
        "               'We provide MCA in CC & Devops, AIML and regular MCA. What would you like to choose?', \n",
        "               'What is the highest package of MCA AIML till now?',\n",
        "               'It was 51.5 LPA from last year batch, would you like to pursue this course ?',\n",
        "               'Yeah I want to but I will think about it.',\n",
        "               'Our seats are limited so please think fast, Do you want to pay the registration fees now',\n",
        "               'Ok, How much is it?',\n",
        "               'Its only 10000 INR, would you like to pay now?',\n",
        "               'No,No its too much I will call you later',\n",
        "               'Ok sir No problem, If you need any assistance you can call us at our free Toll free number',\n",
        "               'yeah ok thanks',\n",
        "               'Thank you for providing your valuable time.'\n",
        "               ]\n",
        ")\n"
      ],
      "metadata": {
        "colab": {
          "base_uri": "https://localhost:8080/"
        },
        "id": "4gf3FpGYMTrW",
        "outputId": "583db0a7-8103-4dfe-d5e2-a6e2cab18034"
      },
      "execution_count": null,
      "outputs": [
        {
          "output_type": "stream",
          "name": "stdout",
          "text": [
            "List Trainer: [####################] 100%\n"
          ]
        }
      ]
    },
    {
      "cell_type": "code",
      "source": [
        ""
      ],
      "metadata": {
        "id": "qWpuze7XIJla"
      },
      "execution_count": null,
      "outputs": []
    },
    {
      "cell_type": "code",
      "source": [
        "name=input(\"Enter Your Name: \")\n",
        "print(\"Welcome to the Chandigarh University .. Let me know how can I help you?\")\n",
        "while True:\n",
        "  request=input(name+':')\n",
        "  if request=='Bye' or request =='bye':\n",
        "    print('Bot: Bye')\n",
        "    break\n",
        "  else:\n",
        "    response=bot.get_response(request)\n",
        "    print('Bot:',response)"
      ],
      "metadata": {
        "colab": {
          "base_uri": "https://localhost:8080/"
        },
        "id": "zFTEZUZlMwum",
        "outputId": "996fe11c-7ffb-49b0-f115-bb34a944e1d6"
      },
      "execution_count": null,
      "outputs": [
        {
          "output_type": "stream",
          "name": "stdout",
          "text": [
            "Enter Your Name: dani\n",
            "Welcome to the Chandigarh University .. Let me know how can I help you?\n",
            "dani:Hello\n",
            "Bot: Hi There! How may I help You !\n",
            "dani:hi\n",
            "Bot: The current time is 04:43 AM\n",
            "dani:hello\n",
            "Bot: Hi There! How may I help You !\n",
            "dani:hell\n",
            "Bot: Hi There! How may I help You !\n",
            "dani:I want to take admission in you Institute\n",
            "Bot: The current time is 04:43 AM\n",
            "dani:I want to take admission in your Institute\n",
            "Bot: Thank You, for choosing our Institute, Which course would you like to take !\n",
            "dani:i want to take admission in your institute\n",
            "Bot: Thank You, for choosing our Institute, Which course would you like to take !\n",
            "dani:i to take admission in your institue\n",
            "Bot: Thank You, for choosing our Institute, Which course would you like to take !\n",
            "dani:i take admission in institute\n",
            "Bot: The current time is 04:44 AM\n",
            "dani:I want to take\n",
            "Bot: The current time is 04:44 AM\n",
            "dani:I want to take admisison in you institute\n",
            "Bot: The current time is 04:45 AM\n",
            "dani:admission\n",
            "Bot: The current time is 04:45 AM\n",
            "dani:admission institute\n",
            "Bot: The current time is 04:45 AM\n",
            "dani:bye\n",
            "Bot: Bye\n"
          ]
        }
      ]
    },
    {
      "cell_type": "code",
      "source": [
        ""
      ],
      "metadata": {
        "id": "jb7o_6dRNBRC"
      },
      "execution_count": null,
      "outputs": []
    }
  ]
}